{
 "cells": [
  {
   "cell_type": "code",
   "execution_count": 1,
   "id": "e7e09f5f",
   "metadata": {},
   "outputs": [
    {
     "name": "stderr",
     "output_type": "stream",
     "text": [
      "/Users/onkiwong/miniforge3/envs/cell2loc_env/lib/python3.9/site-packages/tqdm/auto.py:21: TqdmWarning: IProgress not found. Please update jupyter and ipywidgets. See https://ipywidgets.readthedocs.io/en/stable/user_install.html\n",
      "  from .autonotebook import tqdm as notebook_tqdm\n"
     ]
    },
    {
     "data": {
      "text/plain": [
       "88053"
      ]
     },
     "execution_count": 1,
     "metadata": {},
     "output_type": "execute_result"
    }
   ],
   "source": [
    "import sys\n",
    "import scanpy as sc\n",
    "import anndata\n",
    "import pandas as pd\n",
    "import numpy as np\n",
    "import matplotlib.pyplot as plt\n",
    "import matplotlib as mpl\n",
    "import cell2location\n",
    "import scvi\n",
    "import os\n",
    "from matplotlib import rcParams\n",
    "rcParams['pdf.fonttype'] = 42\n",
    "import seaborn as sns\n",
    "import time\n",
    "import gc\n",
    "gc.collect()\n"
   ]
  },
  {
   "cell_type": "code",
   "execution_count": 8,
   "id": "990dde1c",
   "metadata": {},
   "outputs": [],
   "source": [
    "DATA_DIR = '/Users/onkiwong/Documents/GitHub/Spatial_Transcriptomics_Deconvolution_Algorithm_Benchmarking/methods/cell2loc/datasets'\n",
    "sp09 = os.path.join(DATA_DIR, 'GSM7090362_SpPat09_Unaffected.csv')\n",
    "sp10 = os.path.join(DATA_DIR, 'GSM7090365_SpPat10_Unaffected.csv')\n",
    "sp11 = os.path.join(DATA_DIR, 'GSM7090368_SpPat15_Unaffected.csv')"
   ]
  },
  {
   "cell_type": "code",
   "execution_count": 25,
   "id": "003ff676",
   "metadata": {},
   "outputs": [],
   "source": [
    "# check the overlapping columns between sp09, sp10, sp11 and cellexp.csv\n",
    "# cellexp = pd.read_csv(os.path.join(DATA_DIR, 'cellexp.csv'))\n",
    "# sp09 = pd.read_csv(sp09)\n",
    "# sp10 = pd.read_csv(sp10)\n",
    "# sp11 = pd.read_csv(sp11)"
   ]
  },
  {
   "cell_type": "code",
   "execution_count": 27,
   "id": "767ee6de",
   "metadata": {},
   "outputs": [],
   "source": [
    "# set index to the first column and drop the first column\n",
    "sp09 = sp09.set_index('0')\n",
    "sp10 = sp10.set_index('0')\n",
    "sp11 = sp11.set_index('0')"
   ]
  },
  {
   "cell_type": "code",
   "execution_count": 30,
   "id": "c70a8e62",
   "metadata": {},
   "outputs": [
    {
     "name": "stdout",
     "output_type": "stream",
     "text": [
      "191\n",
      "191\n",
      "191\n"
     ]
    }
   ],
   "source": [
    "# check the overlapping columns between sp09, sp10, sp11 and cellexp.csv\n",
    "print(len(set(sp09.columns) & set(cellexp.columns)))\n",
    "print(len(set(sp10.columns) & set(cellexp.columns)))\n",
    "print(len(set(sp11.columns) & set(cellexp.columns)))"
   ]
  },
  {
   "cell_type": "code",
   "execution_count": 34,
   "id": "0774632e",
   "metadata": {},
   "outputs": [],
   "source": [
    "# keep the overlapping columns\n",
    "sp09 = sp09[list(set(sp09.columns) & set(cellexp.columns))]\n",
    "sp10 = sp10[list(set(sp10.columns) & set(cellexp.columns))]\n",
    "sp11 = sp11[list(set(sp11.columns) & set(cellexp.columns))]"
   ]
  },
  {
   "cell_type": "code",
   "execution_count": 36,
   "id": "b105f0b5",
   "metadata": {},
   "outputs": [],
   "source": [
    "sp09.to_csv(os.path.join(DATA_DIR, 'GSM7090362_SpPat09_Unaffected.csv'), index=True, header=True)\n",
    "sp10.to_csv(os.path.join(DATA_DIR, 'GSM7090365_SpPat10_Unaffected.csv'), index=True, header=True)\n",
    "sp11.to_csv(os.path.join(DATA_DIR, 'GSM7090368_SpPat15_Unaffected.csv'), index=True, header=True)"
   ]
  },
  {
   "cell_type": "code",
   "execution_count": 43,
   "id": "aa401319",
   "metadata": {},
   "outputs": [],
   "source": [
    "cellexp\n",
    "ref_exp = cellexp.T"
   ]
  },
  {
   "cell_type": "code",
   "execution_count": 45,
   "id": "381ed351",
   "metadata": {},
   "outputs": [
    {
     "data": {
      "text/html": [
       "<div>\n",
       "<style scoped>\n",
       "    .dataframe tbody tr th:only-of-type {\n",
       "        vertical-align: middle;\n",
       "    }\n",
       "\n",
       "    .dataframe tbody tr th {\n",
       "        vertical-align: top;\n",
       "    }\n",
       "\n",
       "    .dataframe thead th {\n",
       "        text-align: right;\n",
       "    }\n",
       "</style>\n",
       "<table border=\"1\" class=\"dataframe\">\n",
       "  <thead>\n",
       "    <tr style=\"text-align: right;\">\n",
       "      <th>cellID</th>\n",
       "      <th>GCAGCCATCGGCCGAT-1-1</th>\n",
       "      <th>GCGGGTTAGGAGTTTA-1</th>\n",
       "      <th>GCGCGATTCTAGCACA-1</th>\n",
       "      <th>GCGCGATTCGCAAGCC-1</th>\n",
       "      <th>GCGCGATTCATATCGG-1</th>\n",
       "      <th>GCGCGATAGGTCATCT-1</th>\n",
       "      <th>GCGCGATAGGTAGCTG-1</th>\n",
       "      <th>GCGCGATAGCTGAAAT-1</th>\n",
       "      <th>GCGCCAATCCAAATGC-1</th>\n",
       "      <th>GCGCCAAGTTACTGAC-1</th>\n",
       "      <th>...</th>\n",
       "      <th>GGGTCTGGTTAAGATG-1</th>\n",
       "      <th>TTTCCTCGTAAGGGAA-1</th>\n",
       "      <th>TTTATGCGTGGTAACG-1</th>\n",
       "      <th>TGCCCTATCGGCTACG-1</th>\n",
       "      <th>TTTATGCAGTATTGGA-1</th>\n",
       "      <th>CGCTATCTCGCGCCAA-1</th>\n",
       "      <th>TACACGAAGTAGGCCA-1-1</th>\n",
       "      <th>CCCTCCTGTCAAAGAT-1</th>\n",
       "      <th>CAAGGCCTCTCGCATC-1</th>\n",
       "      <th>CAAGGCCGTACGCTGC-1</th>\n",
       "    </tr>\n",
       "  </thead>\n",
       "  <tbody>\n",
       "    <tr>\n",
       "      <th>RSRP1</th>\n",
       "      <td>1</td>\n",
       "      <td>1</td>\n",
       "      <td>1</td>\n",
       "      <td>1</td>\n",
       "      <td>1</td>\n",
       "      <td>1</td>\n",
       "      <td>1</td>\n",
       "      <td>1</td>\n",
       "      <td>1</td>\n",
       "      <td>1</td>\n",
       "      <td>...</td>\n",
       "      <td>1</td>\n",
       "      <td>1</td>\n",
       "      <td>1</td>\n",
       "      <td>1</td>\n",
       "      <td>1</td>\n",
       "      <td>1</td>\n",
       "      <td>0</td>\n",
       "      <td>0</td>\n",
       "      <td>1</td>\n",
       "      <td>0</td>\n",
       "    </tr>\n",
       "    <tr>\n",
       "      <th>RPL14</th>\n",
       "      <td>3</td>\n",
       "      <td>3</td>\n",
       "      <td>3</td>\n",
       "      <td>3</td>\n",
       "      <td>2</td>\n",
       "      <td>2</td>\n",
       "      <td>2</td>\n",
       "      <td>3</td>\n",
       "      <td>2</td>\n",
       "      <td>2</td>\n",
       "      <td>...</td>\n",
       "      <td>3</td>\n",
       "      <td>2</td>\n",
       "      <td>2</td>\n",
       "      <td>3</td>\n",
       "      <td>3</td>\n",
       "      <td>2</td>\n",
       "      <td>3</td>\n",
       "      <td>3</td>\n",
       "      <td>3</td>\n",
       "      <td>3</td>\n",
       "    </tr>\n",
       "    <tr>\n",
       "      <th>XIST</th>\n",
       "      <td>0</td>\n",
       "      <td>0</td>\n",
       "      <td>0</td>\n",
       "      <td>0</td>\n",
       "      <td>0</td>\n",
       "      <td>0</td>\n",
       "      <td>0</td>\n",
       "      <td>0</td>\n",
       "      <td>0</td>\n",
       "      <td>0</td>\n",
       "      <td>...</td>\n",
       "      <td>0</td>\n",
       "      <td>1</td>\n",
       "      <td>0</td>\n",
       "      <td>0</td>\n",
       "      <td>0</td>\n",
       "      <td>0</td>\n",
       "      <td>0</td>\n",
       "      <td>0</td>\n",
       "      <td>0</td>\n",
       "      <td>0</td>\n",
       "    </tr>\n",
       "    <tr>\n",
       "      <th>PSAP</th>\n",
       "      <td>1</td>\n",
       "      <td>1</td>\n",
       "      <td>1</td>\n",
       "      <td>1</td>\n",
       "      <td>1</td>\n",
       "      <td>1</td>\n",
       "      <td>0</td>\n",
       "      <td>0</td>\n",
       "      <td>1</td>\n",
       "      <td>1</td>\n",
       "      <td>...</td>\n",
       "      <td>1</td>\n",
       "      <td>1</td>\n",
       "      <td>1</td>\n",
       "      <td>1</td>\n",
       "      <td>1</td>\n",
       "      <td>0</td>\n",
       "      <td>1</td>\n",
       "      <td>0</td>\n",
       "      <td>1</td>\n",
       "      <td>1</td>\n",
       "    </tr>\n",
       "    <tr>\n",
       "      <th>COTL1</th>\n",
       "      <td>0</td>\n",
       "      <td>0</td>\n",
       "      <td>0</td>\n",
       "      <td>1</td>\n",
       "      <td>0</td>\n",
       "      <td>0</td>\n",
       "      <td>0</td>\n",
       "      <td>0</td>\n",
       "      <td>0</td>\n",
       "      <td>0</td>\n",
       "      <td>...</td>\n",
       "      <td>0</td>\n",
       "      <td>0</td>\n",
       "      <td>0</td>\n",
       "      <td>0</td>\n",
       "      <td>1</td>\n",
       "      <td>0</td>\n",
       "      <td>0</td>\n",
       "      <td>0</td>\n",
       "      <td>0</td>\n",
       "      <td>0</td>\n",
       "    </tr>\n",
       "  </tbody>\n",
       "</table>\n",
       "<p>5 rows × 4250 columns</p>\n",
       "</div>"
      ],
      "text/plain": [
       "cellID GCAGCCATCGGCCGAT-1-1 GCGGGTTAGGAGTTTA-1 GCGCGATTCTAGCACA-1  \\\n",
       "RSRP1                     1                  1                  1   \n",
       "RPL14                     3                  3                  3   \n",
       "XIST                      0                  0                  0   \n",
       "PSAP                      1                  1                  1   \n",
       "COTL1                     0                  0                  0   \n",
       "\n",
       "cellID GCGCGATTCGCAAGCC-1 GCGCGATTCATATCGG-1 GCGCGATAGGTCATCT-1  \\\n",
       "RSRP1                   1                  1                  1   \n",
       "RPL14                   3                  2                  2   \n",
       "XIST                    0                  0                  0   \n",
       "PSAP                    1                  1                  1   \n",
       "COTL1                   1                  0                  0   \n",
       "\n",
       "cellID GCGCGATAGGTAGCTG-1 GCGCGATAGCTGAAAT-1 GCGCCAATCCAAATGC-1  \\\n",
       "RSRP1                   1                  1                  1   \n",
       "RPL14                   2                  3                  2   \n",
       "XIST                    0                  0                  0   \n",
       "PSAP                    0                  0                  1   \n",
       "COTL1                   0                  0                  0   \n",
       "\n",
       "cellID GCGCCAAGTTACTGAC-1  ... GGGTCTGGTTAAGATG-1 TTTCCTCGTAAGGGAA-1  \\\n",
       "RSRP1                   1  ...                  1                  1   \n",
       "RPL14                   2  ...                  3                  2   \n",
       "XIST                    0  ...                  0                  1   \n",
       "PSAP                    1  ...                  1                  1   \n",
       "COTL1                   0  ...                  0                  0   \n",
       "\n",
       "cellID TTTATGCGTGGTAACG-1 TGCCCTATCGGCTACG-1 TTTATGCAGTATTGGA-1  \\\n",
       "RSRP1                   1                  1                  1   \n",
       "RPL14                   2                  3                  3   \n",
       "XIST                    0                  0                  0   \n",
       "PSAP                    1                  1                  1   \n",
       "COTL1                   0                  0                  1   \n",
       "\n",
       "cellID CGCTATCTCGCGCCAA-1 TACACGAAGTAGGCCA-1-1 CCCTCCTGTCAAAGAT-1  \\\n",
       "RSRP1                   1                    0                  0   \n",
       "RPL14                   2                    3                  3   \n",
       "XIST                    0                    0                  0   \n",
       "PSAP                    0                    1                  0   \n",
       "COTL1                   0                    0                  0   \n",
       "\n",
       "cellID CAAGGCCTCTCGCATC-1 CAAGGCCGTACGCTGC-1  \n",
       "RSRP1                   1                  0  \n",
       "RPL14                   3                  3  \n",
       "XIST                    0                  0  \n",
       "PSAP                    1                  1  \n",
       "COTL1                   0                  0  \n",
       "\n",
       "[5 rows x 4250 columns]"
      ]
     },
     "execution_count": 45,
     "metadata": {},
     "output_type": "execute_result"
    }
   ],
   "source": [
    "ref_exp.columns = ref_exp.iloc[0]\n",
    "ref_exp = ref_exp[1:]\n",
    "ref_exp.head()"
   ]
  },
  {
   "cell_type": "code",
   "execution_count": 48,
   "id": "3b7428bb",
   "metadata": {},
   "outputs": [],
   "source": [
    "# write ref_exp to a txt file\n",
    "ref_exp.to_csv(os.path.join(DATA_DIR, 'cellexp.txt'), sep='\\t')"
   ]
  },
  {
   "cell_type": "code",
   "execution_count": 49,
   "id": "15f74f98",
   "metadata": {},
   "outputs": [
    {
     "data": {
      "text/html": [
       "<div>\n",
       "<style scoped>\n",
       "    .dataframe tbody tr th:only-of-type {\n",
       "        vertical-align: middle;\n",
       "    }\n",
       "\n",
       "    .dataframe tbody tr th {\n",
       "        vertical-align: top;\n",
       "    }\n",
       "\n",
       "    .dataframe thead th {\n",
       "        text-align: right;\n",
       "    }\n",
       "</style>\n",
       "<table border=\"1\" class=\"dataframe\">\n",
       "  <thead>\n",
       "    <tr style=\"text-align: right;\">\n",
       "      <th></th>\n",
       "      <th>0</th>\n",
       "      <th>NPC2</th>\n",
       "      <th>CD8A</th>\n",
       "      <th>GNLY</th>\n",
       "      <th>COTL1</th>\n",
       "      <th>CD3D</th>\n",
       "      <th>RPL11</th>\n",
       "      <th>FCGR3A</th>\n",
       "      <th>FAM210B</th>\n",
       "      <th>BRI3</th>\n",
       "      <th>...</th>\n",
       "      <th>CD8B</th>\n",
       "      <th>CST3</th>\n",
       "      <th>GZMA</th>\n",
       "      <th>MT-ATP6</th>\n",
       "      <th>RPL30</th>\n",
       "      <th>HLA-DRA</th>\n",
       "      <th>MT-CYB</th>\n",
       "      <th>TRAC</th>\n",
       "      <th>LYAR</th>\n",
       "      <th>SERPINA1</th>\n",
       "    </tr>\n",
       "  </thead>\n",
       "  <tbody>\n",
       "    <tr>\n",
       "      <th>0</th>\n",
       "      <td>AAACGAGACGGTTGAT-1</td>\n",
       "      <td>0.0</td>\n",
       "      <td>0.0</td>\n",
       "      <td>0.0</td>\n",
       "      <td>0.0</td>\n",
       "      <td>0.0</td>\n",
       "      <td>1.0</td>\n",
       "      <td>0.0</td>\n",
       "      <td>0.0</td>\n",
       "      <td>0.0</td>\n",
       "      <td>...</td>\n",
       "      <td>0.0</td>\n",
       "      <td>0.0</td>\n",
       "      <td>0.0</td>\n",
       "      <td>12.0</td>\n",
       "      <td>0.0</td>\n",
       "      <td>0.0</td>\n",
       "      <td>4.0</td>\n",
       "      <td>0.0</td>\n",
       "      <td>0.0</td>\n",
       "      <td>0.0</td>\n",
       "    </tr>\n",
       "    <tr>\n",
       "      <th>1</th>\n",
       "      <td>AAAGGGATGTAGCAAG-1</td>\n",
       "      <td>0.0</td>\n",
       "      <td>0.0</td>\n",
       "      <td>0.0</td>\n",
       "      <td>1.0</td>\n",
       "      <td>0.0</td>\n",
       "      <td>3.0</td>\n",
       "      <td>0.0</td>\n",
       "      <td>0.0</td>\n",
       "      <td>0.0</td>\n",
       "      <td>...</td>\n",
       "      <td>0.0</td>\n",
       "      <td>1.0</td>\n",
       "      <td>0.0</td>\n",
       "      <td>14.0</td>\n",
       "      <td>3.0</td>\n",
       "      <td>4.0</td>\n",
       "      <td>7.0</td>\n",
       "      <td>0.0</td>\n",
       "      <td>0.0</td>\n",
       "      <td>0.0</td>\n",
       "    </tr>\n",
       "    <tr>\n",
       "      <th>2</th>\n",
       "      <td>AAATGGTCAATGTGCC-1</td>\n",
       "      <td>0.0</td>\n",
       "      <td>0.0</td>\n",
       "      <td>0.0</td>\n",
       "      <td>0.0</td>\n",
       "      <td>0.0</td>\n",
       "      <td>0.0</td>\n",
       "      <td>0.0</td>\n",
       "      <td>0.0</td>\n",
       "      <td>0.0</td>\n",
       "      <td>...</td>\n",
       "      <td>0.0</td>\n",
       "      <td>0.0</td>\n",
       "      <td>0.0</td>\n",
       "      <td>3.0</td>\n",
       "      <td>0.0</td>\n",
       "      <td>1.0</td>\n",
       "      <td>2.0</td>\n",
       "      <td>0.0</td>\n",
       "      <td>0.0</td>\n",
       "      <td>0.0</td>\n",
       "    </tr>\n",
       "    <tr>\n",
       "      <th>3</th>\n",
       "      <td>AACAACTGGTAGTTGC-1</td>\n",
       "      <td>0.0</td>\n",
       "      <td>0.0</td>\n",
       "      <td>0.0</td>\n",
       "      <td>0.0</td>\n",
       "      <td>0.0</td>\n",
       "      <td>1.0</td>\n",
       "      <td>0.0</td>\n",
       "      <td>0.0</td>\n",
       "      <td>0.0</td>\n",
       "      <td>...</td>\n",
       "      <td>0.0</td>\n",
       "      <td>0.0</td>\n",
       "      <td>0.0</td>\n",
       "      <td>13.0</td>\n",
       "      <td>0.0</td>\n",
       "      <td>0.0</td>\n",
       "      <td>3.0</td>\n",
       "      <td>0.0</td>\n",
       "      <td>0.0</td>\n",
       "      <td>0.0</td>\n",
       "    </tr>\n",
       "    <tr>\n",
       "      <th>4</th>\n",
       "      <td>AACAATTACTCTACGC-1</td>\n",
       "      <td>0.0</td>\n",
       "      <td>0.0</td>\n",
       "      <td>0.0</td>\n",
       "      <td>0.0</td>\n",
       "      <td>0.0</td>\n",
       "      <td>0.0</td>\n",
       "      <td>0.0</td>\n",
       "      <td>0.0</td>\n",
       "      <td>0.0</td>\n",
       "      <td>...</td>\n",
       "      <td>0.0</td>\n",
       "      <td>0.0</td>\n",
       "      <td>0.0</td>\n",
       "      <td>4.0</td>\n",
       "      <td>0.0</td>\n",
       "      <td>0.0</td>\n",
       "      <td>1.0</td>\n",
       "      <td>0.0</td>\n",
       "      <td>0.0</td>\n",
       "      <td>0.0</td>\n",
       "    </tr>\n",
       "  </tbody>\n",
       "</table>\n",
       "<p>5 rows × 192 columns</p>\n",
       "</div>"
      ],
      "text/plain": [
       "                    0  NPC2  CD8A  GNLY  COTL1  CD3D  RPL11  FCGR3A  FAM210B  \\\n",
       "0  AAACGAGACGGTTGAT-1   0.0   0.0   0.0    0.0   0.0    1.0     0.0      0.0   \n",
       "1  AAAGGGATGTAGCAAG-1   0.0   0.0   0.0    1.0   0.0    3.0     0.0      0.0   \n",
       "2  AAATGGTCAATGTGCC-1   0.0   0.0   0.0    0.0   0.0    0.0     0.0      0.0   \n",
       "3  AACAACTGGTAGTTGC-1   0.0   0.0   0.0    0.0   0.0    1.0     0.0      0.0   \n",
       "4  AACAATTACTCTACGC-1   0.0   0.0   0.0    0.0   0.0    0.0     0.0      0.0   \n",
       "\n",
       "   BRI3  ...  CD8B  CST3  GZMA  MT-ATP6  RPL30  HLA-DRA  MT-CYB  TRAC  LYAR  \\\n",
       "0   0.0  ...   0.0   0.0   0.0     12.0    0.0      0.0     4.0   0.0   0.0   \n",
       "1   0.0  ...   0.0   1.0   0.0     14.0    3.0      4.0     7.0   0.0   0.0   \n",
       "2   0.0  ...   0.0   0.0   0.0      3.0    0.0      1.0     2.0   0.0   0.0   \n",
       "3   0.0  ...   0.0   0.0   0.0     13.0    0.0      0.0     3.0   0.0   0.0   \n",
       "4   0.0  ...   0.0   0.0   0.0      4.0    0.0      0.0     1.0   0.0   0.0   \n",
       "\n",
       "   SERPINA1  \n",
       "0       0.0  \n",
       "1       0.0  \n",
       "2       0.0  \n",
       "3       0.0  \n",
       "4       0.0  \n",
       "\n",
       "[5 rows x 192 columns]"
      ]
     },
     "execution_count": 49,
     "metadata": {},
     "output_type": "execute_result"
    }
   ],
   "source": [
    "sp09 = pd.read_csv(os.path.join(DATA_DIR, 'GSM7090362_SpPat09_Unaffected.csv'))\n",
    "sp10 = pd.read_csv(os.path.join(DATA_DIR, 'GSM7090365_SpPat10_Unaffected.csv'))\n",
    "sp11 = pd.read_csv(os.path.join(DATA_DIR, 'GSM7090368_SpPat15_Unaffected.csv'))\n",
    "\n",
    "sp09.head()"
   ]
  },
  {
   "cell_type": "code",
   "execution_count": 50,
   "id": "21fe4e92",
   "metadata": {},
   "outputs": [
    {
     "data": {
      "text/html": [
       "<div>\n",
       "<style scoped>\n",
       "    .dataframe tbody tr th:only-of-type {\n",
       "        vertical-align: middle;\n",
       "    }\n",
       "\n",
       "    .dataframe tbody tr th {\n",
       "        vertical-align: top;\n",
       "    }\n",
       "\n",
       "    .dataframe thead th {\n",
       "        text-align: right;\n",
       "    }\n",
       "</style>\n",
       "<table border=\"1\" class=\"dataframe\">\n",
       "  <thead>\n",
       "    <tr style=\"text-align: right;\">\n",
       "      <th>0</th>\n",
       "      <th>AAACGAGACGGTTGAT-1</th>\n",
       "      <th>AAAGGGATGTAGCAAG-1</th>\n",
       "      <th>AAATGGTCAATGTGCC-1</th>\n",
       "      <th>AACAACTGGTAGTTGC-1</th>\n",
       "      <th>AACAATTACTCTACGC-1</th>\n",
       "      <th>AACAGGATGGGCCGCG-1</th>\n",
       "      <th>AACCAAGACTTCTCTG-1</th>\n",
       "      <th>AACCGAGCTTGGTCAT-1</th>\n",
       "      <th>AACGATAGAAGGGCCG-1</th>\n",
       "      <th>AACGATATGTCAACTG-1</th>\n",
       "      <th>...</th>\n",
       "      <th>TTGCTGCACCTATCCA-1</th>\n",
       "      <th>TTGGCTCGCATGAGAC-1</th>\n",
       "      <th>TTGGGACACTGCCCGC-1</th>\n",
       "      <th>TTGGGCGGCGGTTGCC-1</th>\n",
       "      <th>TTGTAAGGCCAGTTGG-1</th>\n",
       "      <th>TTGTAATCCGTACTCG-1</th>\n",
       "      <th>TTGTCGTTCAGTTACC-1</th>\n",
       "      <th>TTGTTAGCAAATTCGA-1</th>\n",
       "      <th>TTGTTCAGTGTGCTAC-1</th>\n",
       "      <th>TTGTTGTGTGTCAAGA-1</th>\n",
       "    </tr>\n",
       "  </thead>\n",
       "  <tbody>\n",
       "    <tr>\n",
       "      <th>NPC2</th>\n",
       "      <td>0.0</td>\n",
       "      <td>0.0</td>\n",
       "      <td>0.0</td>\n",
       "      <td>0.0</td>\n",
       "      <td>0.0</td>\n",
       "      <td>2.0</td>\n",
       "      <td>0.0</td>\n",
       "      <td>2.0</td>\n",
       "      <td>0.0</td>\n",
       "      <td>0.0</td>\n",
       "      <td>...</td>\n",
       "      <td>3.0</td>\n",
       "      <td>0.0</td>\n",
       "      <td>0.0</td>\n",
       "      <td>4.0</td>\n",
       "      <td>4.0</td>\n",
       "      <td>0.0</td>\n",
       "      <td>0.0</td>\n",
       "      <td>0.0</td>\n",
       "      <td>1.0</td>\n",
       "      <td>0.0</td>\n",
       "    </tr>\n",
       "    <tr>\n",
       "      <th>CD8A</th>\n",
       "      <td>0.0</td>\n",
       "      <td>0.0</td>\n",
       "      <td>0.0</td>\n",
       "      <td>0.0</td>\n",
       "      <td>0.0</td>\n",
       "      <td>0.0</td>\n",
       "      <td>0.0</td>\n",
       "      <td>0.0</td>\n",
       "      <td>0.0</td>\n",
       "      <td>0.0</td>\n",
       "      <td>...</td>\n",
       "      <td>0.0</td>\n",
       "      <td>0.0</td>\n",
       "      <td>0.0</td>\n",
       "      <td>0.0</td>\n",
       "      <td>0.0</td>\n",
       "      <td>0.0</td>\n",
       "      <td>0.0</td>\n",
       "      <td>0.0</td>\n",
       "      <td>0.0</td>\n",
       "      <td>0.0</td>\n",
       "    </tr>\n",
       "    <tr>\n",
       "      <th>GNLY</th>\n",
       "      <td>0.0</td>\n",
       "      <td>0.0</td>\n",
       "      <td>0.0</td>\n",
       "      <td>0.0</td>\n",
       "      <td>0.0</td>\n",
       "      <td>0.0</td>\n",
       "      <td>0.0</td>\n",
       "      <td>0.0</td>\n",
       "      <td>0.0</td>\n",
       "      <td>0.0</td>\n",
       "      <td>...</td>\n",
       "      <td>0.0</td>\n",
       "      <td>0.0</td>\n",
       "      <td>0.0</td>\n",
       "      <td>0.0</td>\n",
       "      <td>0.0</td>\n",
       "      <td>0.0</td>\n",
       "      <td>0.0</td>\n",
       "      <td>0.0</td>\n",
       "      <td>0.0</td>\n",
       "      <td>0.0</td>\n",
       "    </tr>\n",
       "    <tr>\n",
       "      <th>COTL1</th>\n",
       "      <td>0.0</td>\n",
       "      <td>1.0</td>\n",
       "      <td>0.0</td>\n",
       "      <td>0.0</td>\n",
       "      <td>0.0</td>\n",
       "      <td>0.0</td>\n",
       "      <td>0.0</td>\n",
       "      <td>0.0</td>\n",
       "      <td>0.0</td>\n",
       "      <td>0.0</td>\n",
       "      <td>...</td>\n",
       "      <td>0.0</td>\n",
       "      <td>0.0</td>\n",
       "      <td>0.0</td>\n",
       "      <td>0.0</td>\n",
       "      <td>0.0</td>\n",
       "      <td>0.0</td>\n",
       "      <td>0.0</td>\n",
       "      <td>0.0</td>\n",
       "      <td>0.0</td>\n",
       "      <td>0.0</td>\n",
       "    </tr>\n",
       "    <tr>\n",
       "      <th>CD3D</th>\n",
       "      <td>0.0</td>\n",
       "      <td>0.0</td>\n",
       "      <td>0.0</td>\n",
       "      <td>0.0</td>\n",
       "      <td>0.0</td>\n",
       "      <td>0.0</td>\n",
       "      <td>0.0</td>\n",
       "      <td>0.0</td>\n",
       "      <td>0.0</td>\n",
       "      <td>0.0</td>\n",
       "      <td>...</td>\n",
       "      <td>0.0</td>\n",
       "      <td>0.0</td>\n",
       "      <td>0.0</td>\n",
       "      <td>0.0</td>\n",
       "      <td>0.0</td>\n",
       "      <td>0.0</td>\n",
       "      <td>0.0</td>\n",
       "      <td>0.0</td>\n",
       "      <td>0.0</td>\n",
       "      <td>0.0</td>\n",
       "    </tr>\n",
       "  </tbody>\n",
       "</table>\n",
       "<p>5 rows × 542 columns</p>\n",
       "</div>"
      ],
      "text/plain": [
       "0      AAACGAGACGGTTGAT-1  AAAGGGATGTAGCAAG-1  AAATGGTCAATGTGCC-1  \\\n",
       "NPC2                  0.0                 0.0                 0.0   \n",
       "CD8A                  0.0                 0.0                 0.0   \n",
       "GNLY                  0.0                 0.0                 0.0   \n",
       "COTL1                 0.0                 1.0                 0.0   \n",
       "CD3D                  0.0                 0.0                 0.0   \n",
       "\n",
       "0      AACAACTGGTAGTTGC-1  AACAATTACTCTACGC-1  AACAGGATGGGCCGCG-1  \\\n",
       "NPC2                  0.0                 0.0                 2.0   \n",
       "CD8A                  0.0                 0.0                 0.0   \n",
       "GNLY                  0.0                 0.0                 0.0   \n",
       "COTL1                 0.0                 0.0                 0.0   \n",
       "CD3D                  0.0                 0.0                 0.0   \n",
       "\n",
       "0      AACCAAGACTTCTCTG-1  AACCGAGCTTGGTCAT-1  AACGATAGAAGGGCCG-1  \\\n",
       "NPC2                  0.0                 2.0                 0.0   \n",
       "CD8A                  0.0                 0.0                 0.0   \n",
       "GNLY                  0.0                 0.0                 0.0   \n",
       "COTL1                 0.0                 0.0                 0.0   \n",
       "CD3D                  0.0                 0.0                 0.0   \n",
       "\n",
       "0      AACGATATGTCAACTG-1  ...  TTGCTGCACCTATCCA-1  TTGGCTCGCATGAGAC-1  \\\n",
       "NPC2                  0.0  ...                 3.0                 0.0   \n",
       "CD8A                  0.0  ...                 0.0                 0.0   \n",
       "GNLY                  0.0  ...                 0.0                 0.0   \n",
       "COTL1                 0.0  ...                 0.0                 0.0   \n",
       "CD3D                  0.0  ...                 0.0                 0.0   \n",
       "\n",
       "0      TTGGGACACTGCCCGC-1  TTGGGCGGCGGTTGCC-1  TTGTAAGGCCAGTTGG-1  \\\n",
       "NPC2                  0.0                 4.0                 4.0   \n",
       "CD8A                  0.0                 0.0                 0.0   \n",
       "GNLY                  0.0                 0.0                 0.0   \n",
       "COTL1                 0.0                 0.0                 0.0   \n",
       "CD3D                  0.0                 0.0                 0.0   \n",
       "\n",
       "0      TTGTAATCCGTACTCG-1  TTGTCGTTCAGTTACC-1  TTGTTAGCAAATTCGA-1  \\\n",
       "NPC2                  0.0                 0.0                 0.0   \n",
       "CD8A                  0.0                 0.0                 0.0   \n",
       "GNLY                  0.0                 0.0                 0.0   \n",
       "COTL1                 0.0                 0.0                 0.0   \n",
       "CD3D                  0.0                 0.0                 0.0   \n",
       "\n",
       "0      TTGTTCAGTGTGCTAC-1  TTGTTGTGTGTCAAGA-1  \n",
       "NPC2                  1.0                 0.0  \n",
       "CD8A                  0.0                 0.0  \n",
       "GNLY                  0.0                 0.0  \n",
       "COTL1                 0.0                 0.0  \n",
       "CD3D                  0.0                 0.0  \n",
       "\n",
       "[5 rows x 542 columns]"
      ]
     },
     "execution_count": 50,
     "metadata": {},
     "output_type": "execute_result"
    }
   ],
   "source": [
    "sp09 = sp09.set_index('0')\n",
    "sp10 = sp10.set_index('0')\n",
    "sp11 = sp11.set_index('0')\n",
    "\n",
    "sp09 = sp09.T\n",
    "sp10 = sp10.T\n",
    "sp11 = sp11.T\n",
    "\n",
    "sp09.head()"
   ]
  },
  {
   "cell_type": "code",
   "execution_count": 51,
   "id": "5b59abe1",
   "metadata": {},
   "outputs": [],
   "source": [
    "sp09.to_csv(os.path.join(DATA_DIR, 'GSM7090362_SpPat09_Unaffected.txt'), sep='\\t')\n",
    "sp10.to_csv(os.path.join(DATA_DIR, 'GSM7090365_SpPat10_Unaffected.txt'), sep='\\t')\n",
    "sp11.to_csv(os.path.join(DATA_DIR, 'GSM7090368_SpPat15_Unaffected.txt'), sep='\\t')"
   ]
  },
  {
   "cell_type": "code",
   "execution_count": 52,
   "id": "8cac02e4",
   "metadata": {},
   "outputs": [],
   "source": [
    "# DATA_DIR = '/Users/onkiwong/Documents/GitHub/Spatial_Transcriptomics_Deconvolution_Algorithm_Benchmarking/seqFISH'\n",
    "# cellcount = os.path.join(DATA_DIR, \"raw_somatosensory_sc_exp.csv\")\n",
    "# sp_data = os.path.join(DATA_DIR, \"Out_gene_expressions_10000genes.txt\")\n",
    "# celltype = os.path.join(DATA_DIR, \"somatosensory_sc_labels.txt\")\n",
    "\n",
    "DATA_DIR = '/Users/onkiwong/Documents/GitHub/Spatial_Transcriptomics_Deconvolution_Algorithm_Benchmarking/methods/cell2loc/datasets'\n",
    "cellcount = os.path.join(DATA_DIR, \"cellexp.csv\")\n",
    "sp_data = os.path.join(DATA_DIR, \"GSM7090362_SpPat09_Unaffected.txt\")\n",
    "celltype = os.path.join(DATA_DIR, \"celltypes.txt\")"
   ]
  },
  {
   "cell_type": "code",
   "execution_count": 71,
   "id": "b91f746f",
   "metadata": {},
   "outputs": [],
   "source": [
    "start_time = time.time()\n",
    "adata_ref = sc.read_csv(cellcount)\n",
    "# adata_ref = adata_ref.transpose()"
   ]
  },
  {
   "cell_type": "code",
   "execution_count": 72,
   "id": "bcd8ffc7",
   "metadata": {},
   "outputs": [
    {
     "data": {
      "text/plain": [
       "AnnData object with n_obs × n_vars = 4250 × 192"
      ]
     },
     "execution_count": 72,
     "metadata": {},
     "output_type": "execute_result"
    }
   ],
   "source": [
    "adata_ref"
   ]
  },
  {
   "cell_type": "code",
   "execution_count": 73,
   "id": "753999df",
   "metadata": {},
   "outputs": [
    {
     "data": {
      "text/html": [
       "<div>\n",
       "<style scoped>\n",
       "    .dataframe tbody tr th:only-of-type {\n",
       "        vertical-align: middle;\n",
       "    }\n",
       "\n",
       "    .dataframe tbody tr th {\n",
       "        vertical-align: top;\n",
       "    }\n",
       "\n",
       "    .dataframe thead th {\n",
       "        text-align: right;\n",
       "    }\n",
       "</style>\n",
       "<table border=\"1\" class=\"dataframe\">\n",
       "  <thead>\n",
       "    <tr style=\"text-align: right;\">\n",
       "      <th></th>\n",
       "      <th>celltype</th>\n",
       "    </tr>\n",
       "  </thead>\n",
       "  <tbody>\n",
       "    <tr>\n",
       "      <th>0</th>\n",
       "      <td>Activated NK cells</td>\n",
       "    </tr>\n",
       "    <tr>\n",
       "      <th>1</th>\n",
       "      <td>Activated NK cells</td>\n",
       "    </tr>\n",
       "    <tr>\n",
       "      <th>2</th>\n",
       "      <td>Activated NK cells</td>\n",
       "    </tr>\n",
       "    <tr>\n",
       "      <th>3</th>\n",
       "      <td>Activated NK cells</td>\n",
       "    </tr>\n",
       "    <tr>\n",
       "      <th>4</th>\n",
       "      <td>Activated NK cells</td>\n",
       "    </tr>\n",
       "  </tbody>\n",
       "</table>\n",
       "</div>"
      ],
      "text/plain": [
       "             celltype\n",
       "0  Activated NK cells\n",
       "1  Activated NK cells\n",
       "2  Activated NK cells\n",
       "3  Activated NK cells\n",
       "4  Activated NK cells"
      ]
     },
     "execution_count": 73,
     "metadata": {},
     "output_type": "execute_result"
    }
   ],
   "source": [
    "\n",
    "df_celltype = pd.read_csv(celltype, header=None, sep='\\t')\n",
    "df_celltype.columns = ['celltype']\n",
    "df_celltype.head()"
   ]
  },
  {
   "cell_type": "code",
   "execution_count": 74,
   "id": "3ed3a050",
   "metadata": {},
   "outputs": [
    {
     "data": {
      "text/plain": [
       "(4250, 1)"
      ]
     },
     "execution_count": 74,
     "metadata": {},
     "output_type": "execute_result"
    }
   ],
   "source": [
    "df_celltype.shape"
   ]
  },
  {
   "cell_type": "code",
   "execution_count": 75,
   "id": "9986ad31",
   "metadata": {},
   "outputs": [
    {
     "name": "stdout",
     "output_type": "stream",
     "text": [
      "Input reference data:\n",
      "AnnData object with n_obs × n_vars = 4250 × 192\n",
      "    obs: 'Subset', 'Sample'\n"
     ]
    }
   ],
   "source": [
    "\n",
    "df_celltype.index = adata_ref.obs.index\n",
    "adata_ref.obs['Subset'] = df_celltype['celltype']\n",
    "adata_ref.obs['Sample'] = adata_ref.obs_names\n",
    "adata_ref.obs['Sample'] = adata_ref.obs['Sample'].apply(lambda x: x[0:4])\n",
    "print('Input reference data:')\n",
    "print(adata_ref)"
   ]
  },
  {
   "cell_type": "code",
   "execution_count": 76,
   "id": "f0a1359b",
   "metadata": {},
   "outputs": [
    {
     "name": "stderr",
     "output_type": "stream",
     "text": [
      "/Users/onkiwong/miniforge3/envs/cell2loc_env/lib/python3.9/site-packages/pandas/core/arraylike.py:399: RuntimeWarning: divide by zero encountered in log10\n",
      "  result = getattr(ufunc, method)(*inputs, **kwargs)\n"
     ]
    },
    {
     "data": {
      "image/png": "[encoded data removed]",
      "text/plain": [
       "<Figure size 640x480 with 1 Axes>"
      ]
     },
     "metadata": {},
     "output_type": "display_data"
    }
   ],
   "source": [
    "from cell2location.utils.filtering import filter_genes\n",
    "selected = filter_genes(adata_ref, cell_count_cutoff=5, cell_percentage_cutoff2=0.03, nonz_mean_cutoff=1.12)\n",
    "# 5, 0.03, 1.12\n",
    "\n",
    "# In our case, a few genes are cut\n",
    "adata_ref = adata_ref[:, selected].copy()"
   ]
  },
  {
   "cell_type": "code",
   "execution_count": 77,
   "id": "60c0258c",
   "metadata": {},
   "outputs": [
    {
     "data": {
      "text/plain": [
       "AnnData object with n_obs × n_vars = 4250 × 189\n",
       "    obs: 'Subset', 'Sample'\n",
       "    var: 'n_cells', 'nonz_mean'"
      ]
     },
     "execution_count": 77,
     "metadata": {},
     "output_type": "execute_result"
    }
   ],
   "source": [
    "adata_ref"
   ]
  },
  {
   "cell_type": "code",
   "execution_count": 78,
   "id": "cffff289",
   "metadata": {},
   "outputs": [
    {
     "name": "stderr",
     "output_type": "stream",
     "text": [
      "/Users/onkiwong/miniforge3/envs/cell2loc_env/lib/python3.9/site-packages/scvi/data/fields/_dataframe_field.py:186: UserWarning: Category 11 in adata.obs['_scvi_batch'] has fewer than 3 cells. Models may not train properly.\n",
      "  categorical_mapping = _make_column_categorical(\n",
      "GPU available: True (mps), used: False\n",
      "TPU available: False, using: 0 TPU cores\n",
      "HPU available: False, using: 0 HPUs\n",
      "/Users/onkiwong/miniforge3/envs/cell2loc_env/lib/python3.9/site-packages/lightning/pytorch/trainer/setup.py:177: GPU available but not used. You can set it by doing `Trainer(accelerator='gpu')`.\n",
      "/Users/onkiwong/miniforge3/envs/cell2loc_env/lib/python3.9/site-packages/lightning/pytorch/trainer/configuration_validator.py:68: You passed in a `val_dataloader` but have no `validation_step`. Skipping val loop.\n",
      "/Users/onkiwong/miniforge3/envs/cell2loc_env/lib/python3.9/site-packages/lightning/pytorch/trainer/connectors/data_connector.py:424: The 'train_dataloader' does not have many workers which may be a bottleneck. Consider increasing the value of the `num_workers` argument` to `num_workers=11` in the `DataLoader` to improve performance.\n",
      "/Users/onkiwong/miniforge3/envs/cell2loc_env/lib/python3.9/site-packages/lightning/pytorch/loops/fit_loop.py:298: The number of training batches (1) is smaller than the logging interval Trainer(log_every_n_steps=10). Set a lower value for log_every_n_steps if you want to see logs for the training epoch.\n"
     ]
    },
    {
     "name": "stdout",
     "output_type": "stream",
     "text": [
      "Epoch 250/250: 100%|██████████| 250/250 [00:09<00:00, 27.35it/s, v_num=1, elbo_train=7.85e+5]"
     ]
    },
    {
     "name": "stderr",
     "output_type": "stream",
     "text": [
      "`Trainer.fit` stopped: `max_epochs=250` reached.\n"
     ]
    },
    {
     "name": "stdout",
     "output_type": "stream",
     "text": [
      "Epoch 250/250: 100%|██████████| 250/250 [00:09<00:00, 27.04it/s, v_num=1, elbo_train=7.85e+5]\n"
     ]
    },
    {
     "data": {
      "image/png": "[encoded data removed]",
      "text/plain": [
       "<Figure size 640x480 with 1 Axes>"
      ]
     },
     "metadata": {},
     "output_type": "display_data"
    }
   ],
   "source": [
    "from cell2location.models import RegressionModel\n",
    "RegressionModel.setup_anndata(adata=adata_ref, batch_key='Sample', labels_key='Subset')\n",
    "mod = RegressionModel(adata_ref)\n",
    "# Use all data for training (validation not implemented yet, train_size=1)\n",
    "mod.train(max_epochs=250, batch_size=None, train_size=1, lr=0.002)\n",
    "# plot ELBO loss history during training, removing first 20 epochs from the plot\n",
    "ELBO_plot = mod.plot_history(20)"
   ]
  },
  {
   "cell_type": "code",
   "execution_count": 79,
   "id": "9d5677c6",
   "metadata": {},
   "outputs": [
    {
     "name": "stdout",
     "output_type": "stream",
     "text": [
      "Sampling local variables, batch:   0%|          | 0/2 [00:00<?, ?it/s]\n",
      "Sampling global variables, sample: 100%|██████████| 999/999 [00:03<00:00, 260.29it/s]\n",
      "Saved reference signatures file: \n",
      "/Users/onkiwong/Documents/GitHub/Spatial_Transcriptomics_Deconvolution_Algorithm_Benchmarking/methods/cell2loc/sc.h5ad\n"
     ]
    },
    {
     "data": {
      "image/png": "[encoded data removed]",
      "text/plain": [
       "<Figure size 640x480 with 1 Axes>"
      ]
     },
     "metadata": {},
     "output_type": "display_data"
    },
    {
     "data": {
      "image/png": "[encoded data removed]",
      "text/plain": [
       "<Figure size 640x480 with 1 Axes>"
      ]
     },
     "metadata": {},
     "output_type": "display_data"
    }
   ],
   "source": [
    "# In this section, we export the estimated cell abundance (summary of the posterior distribution).\n",
    "adata_ref = mod.export_posterior(\n",
    "    adata_ref, sample_kwargs={'num_samples': 1000, 'batch_size': 2500}\n",
    ")\n",
    "# Results saving folder\n",
    "# Save model\n",
    "mod.save(f\"{os.getcwd()}\", overwrite=True)\n",
    "\n",
    "adata_file = f\"{os.getcwd()}/sc.h5ad\"\n",
    "adata_ref.write(adata_file)\n",
    "print(\"Saved reference signatures file: \")\n",
    "print(adata_file)\n",
    "\n",
    "# First plot: Reconstruction accuracy to assess if there are any issues with inference\n",
    "# Second plot: When this plot is very different from a diagonal plot (e.g. very low values on Y-axis, density everywhere) it indicates problems with signature estimation.\n",
    "mod.plot_QC()"
   ]
  },
  {
   "cell_type": "code",
   "execution_count": 154,
   "id": "7d255fd2",
   "metadata": {},
   "outputs": [
    {
     "data": {
      "text/html": [
       "<div>\n",
       "<style scoped>\n",
       "    .dataframe tbody tr th:only-of-type {\n",
       "        vertical-align: middle;\n",
       "    }\n",
       "\n",
       "    .dataframe tbody tr th {\n",
       "        vertical-align: top;\n",
       "    }\n",
       "\n",
       "    .dataframe thead th {\n",
       "        text-align: right;\n",
       "    }\n",
       "</style>\n",
       "<table border=\"1\" class=\"dataframe\">\n",
       "  <thead>\n",
       "    <tr style=\"text-align: right;\">\n",
       "      <th></th>\n",
       "      <th>Activated NK cells</th>\n",
       "      <th>CD4+ effector cells</th>\n",
       "      <th>Dendritic cells</th>\n",
       "      <th>Differenting myeloid cells</th>\n",
       "      <th>Granulocytes</th>\n",
       "    </tr>\n",
       "  </thead>\n",
       "  <tbody>\n",
       "    <tr>\n",
       "      <th>RSRP1</th>\n",
       "      <td>0.893527</td>\n",
       "      <td>0.723933</td>\n",
       "      <td>0.591669</td>\n",
       "      <td>0.696884</td>\n",
       "      <td>0.491517</td>\n",
       "    </tr>\n",
       "    <tr>\n",
       "      <th>RPL14</th>\n",
       "      <td>2.472966</td>\n",
       "      <td>2.726269</td>\n",
       "      <td>2.808234</td>\n",
       "      <td>1.861539</td>\n",
       "      <td>2.556985</td>\n",
       "    </tr>\n",
       "    <tr>\n",
       "      <th>XIST</th>\n",
       "      <td>0.000167</td>\n",
       "      <td>0.662449</td>\n",
       "      <td>0.208999</td>\n",
       "      <td>1.001380</td>\n",
       "      <td>0.550573</td>\n",
       "    </tr>\n",
       "    <tr>\n",
       "      <th>PSAP</th>\n",
       "      <td>0.696860</td>\n",
       "      <td>0.544810</td>\n",
       "      <td>0.529849</td>\n",
       "      <td>2.509620</td>\n",
       "      <td>1.208651</td>\n",
       "    </tr>\n",
       "    <tr>\n",
       "      <th>COTL1</th>\n",
       "      <td>0.092806</td>\n",
       "      <td>0.266008</td>\n",
       "      <td>0.535265</td>\n",
       "      <td>2.006013</td>\n",
       "      <td>1.212308</td>\n",
       "    </tr>\n",
       "  </tbody>\n",
       "</table>\n",
       "</div>"
      ],
      "text/plain": [
       "       Activated NK cells  CD4+ effector cells  Dendritic cells  \\\n",
       "RSRP1            0.893527             0.723933         0.591669   \n",
       "RPL14            2.472966             2.726269         2.808234   \n",
       "XIST             0.000167             0.662449         0.208999   \n",
       "PSAP             0.696860             0.544810         0.529849   \n",
       "COTL1            0.092806             0.266008         0.535265   \n",
       "\n",
       "       Differenting myeloid cells  Granulocytes  \n",
       "RSRP1                    0.696884      0.491517  \n",
       "RPL14                    1.861539      2.556985  \n",
       "XIST                     1.001380      0.550573  \n",
       "PSAP                     2.509620      1.208651  \n",
       "COTL1                    2.006013      1.212308  "
      ]
     },
     "execution_count": 154,
     "metadata": {},
     "output_type": "execute_result"
    }
   ],
   "source": [
    "# Export estimated expression in each cluster\n",
    "if 'means_per_cluster_mu_fg' in adata_ref.varm.keys():\n",
    "    inf_aver = adata_ref.varm['means_per_cluster_mu_fg'][[f'means_per_cluster_mu_fg_{i}'\n",
    "                                    for i in adata_ref.uns['mod']['factor_names']]].copy()\n",
    "else:\n",
    "    inf_aver = adata_ref.var[[f'means_per_cluster_mu_fg_{i}'\n",
    "                                    for i in adata_ref.uns['mod']['factor_names']]].copy()\n",
    "inf_aver.columns = adata_ref.uns['mod']['factor_names']\n",
    "inf_aver.iloc[0:5, 0:5]\n",
    "\n",
    "# Note that the column names are cell types, the row names are gene names, in the original code\n",
    "# the authors use ENSEMBL as names instead of raw gene names"
   ]
  },
  {
   "cell_type": "code",
   "execution_count": 155,
   "id": "36a11776",
   "metadata": {},
   "outputs": [
    {
     "data": {
      "text/plain": [
       "Index(['RSRP1', 'RPL14', 'XIST', 'PSAP', 'COTL1', 'GZMA', 'C12orf75',\n",
       "       'SLC25A37', 'RPS3A', 'NCOA4',\n",
       "       ...\n",
       "       'HLA-C', 'HLA-DRA', 'GNG11', 'TRAC', 'POLR2J3-1', 'CD37', 'TUBB1',\n",
       "       'RPS29', 'RPS3', 'RPL15'],\n",
       "      dtype='object', length=189)"
      ]
     },
     "execution_count": 155,
     "metadata": {},
     "output_type": "execute_result"
    }
   ],
   "source": [
    "inf_aver.index"
   ]
  },
  {
   "cell_type": "code",
   "execution_count": 173,
   "id": "3f87f0a0",
   "metadata": {},
   "outputs": [],
   "source": [
    "adata_vis = sc.read_text(sp_data).T\n",
    "adata_vis.obs['sample'] = 'marker_genes'"
   ]
  },
  {
   "cell_type": "code",
   "execution_count": 175,
   "id": "e787415d",
   "metadata": {},
   "outputs": [],
   "source": [
    "intersect = np.intersect1d(adata_vis.var_names, inf_aver.index)\n",
    "adata_vis = adata_vis[:, intersect].copy()\n",
    "inf_aver = inf_aver.loc[intersect, :].copy()"
   ]
  },
  {
   "cell_type": "code",
   "execution_count": 180,
   "id": "9b791c04",
   "metadata": {},
   "outputs": [
    {
     "name": "stderr",
     "output_type": "stream",
     "text": [
      "/Users/onkiwong/miniforge3/envs/cell2loc_env/lib/python3.9/site-packages/cell2location/models/_cell2location_model.py:151: ImplicitModificationWarning: Trying to modify attribute `.obs` of view, initializing view as actual.\n",
      "  adata.obs[\"_indices\"] = np.arange(adata.n_obs).astype(\"int64\")\n"
     ]
    }
   ],
   "source": [
    "cell2location.models.Cell2location.setup_anndata(adata=adata_vis[:, intersect], batch_key='sample')"
   ]
  },
  {
   "cell_type": "code",
   "execution_count": 185,
   "id": "2572680d",
   "metadata": {},
   "outputs": [],
   "source": [
    "from cell2location.models import Cell2location"
   ]
  },
  {
   "cell_type": "code",
   "execution_count": 187,
   "id": "92e0a232",
   "metadata": {},
   "outputs": [],
   "source": [
    "cell2location.models.Cell2location.setup_anndata(adata_vis)"
   ]
  },
  {
   "cell_type": "code",
   "execution_count": 188,
   "id": "ba46fb8e",
   "metadata": {},
   "outputs": [
    {
     "name": "stderr",
     "output_type": "stream",
     "text": [
      "GPU available: True (mps), used: False\n",
      "TPU available: False, using: 0 TPU cores\n",
      "HPU available: False, using: 0 HPUs\n",
      "/Users/onkiwong/miniforge3/envs/cell2loc_env/lib/python3.9/site-packages/lightning/pytorch/trainer/setup.py:177: GPU available but not used. You can set it by doing `Trainer(accelerator='gpu')`.\n",
      "/Users/onkiwong/miniforge3/envs/cell2loc_env/lib/python3.9/site-packages/lightning/pytorch/trainer/configuration_validator.py:68: You passed in a `val_dataloader` but have no `validation_step`. Skipping val loop.\n",
      "/Users/onkiwong/miniforge3/envs/cell2loc_env/lib/python3.9/site-packages/lightning/pytorch/trainer/connectors/data_connector.py:424: The 'train_dataloader' does not have many workers which may be a bottleneck. Consider increasing the value of the `num_workers` argument` to `num_workers=11` in the `DataLoader` to improve performance.\n",
      "/Users/onkiwong/miniforge3/envs/cell2loc_env/lib/python3.9/site-packages/lightning/pytorch/loops/fit_loop.py:298: The number of training batches (1) is smaller than the logging interval Trainer(log_every_n_steps=10). Set a lower value for log_every_n_steps if you want to see logs for the training epoch.\n"
     ]
    },
    {
     "name": "stdout",
     "output_type": "stream",
     "text": [
      "Epoch 20000/20000: 100%|██████████| 20000/20000 [07:16<00:00, 45.93it/s, v_num=1, elbo_train=1.09e+5]"
     ]
    },
    {
     "name": "stderr",
     "output_type": "stream",
     "text": [
      "`Trainer.fit` stopped: `max_epochs=20000` reached.\n"
     ]
    },
    {
     "name": "stdout",
     "output_type": "stream",
     "text": [
      "Epoch 20000/20000: 100%|██████████| 20000/20000 [07:16<00:00, 45.86it/s, v_num=1, elbo_train=1.09e+5]\n"
     ]
    },
    {
     "data": {
      "image/png": "[encoded data removed]",
      "text/plain": [
       "<Figure size 640x480 with 1 Axes>"
      ]
     },
     "metadata": {},
     "output_type": "display_data"
    }
   ],
   "source": [
    "gc.collect()\n",
    "mod = cell2location.models.Cell2location(\n",
    "    adata_vis, cell_state_df=inf_aver,\n",
    "    # the expected average cell abundance: tissue-dependent\n",
    "    # hyper-prior which can be estimated from paired histology:\n",
    "    N_cells_per_location=6,\n",
    "    # hyperparameter controlling normalisation of\n",
    "    # within-experiment variation in RNA detection (using default here):\n",
    "    detection_alpha=200\n",
    ")\n",
    "\n",
    "mod.train(max_epochs=20000,\n",
    "          # train using full data (batch_size=None)\n",
    "          batch_size=None,\n",
    "          # use all data points in training because\n",
    "          # we need to estimate cell abundance at all locations\n",
    "          train_size=1)\n",
    "\n",
    "# plot ELBO loss history during training, removing first 100 epochs from the plot\n",
    "mod.plot_history(1000)\n",
    "plt.legend(labels=['full data training'])"
   ]
  },
  {
   "cell_type": "code",
   "execution_count": 189,
   "id": "d3721d64",
   "metadata": {},
   "outputs": [
    {
     "name": "stdout",
     "output_type": "stream",
     "text": [
      "Sampling local variables, batch: 100%|██████████| 1/1 [00:04<00:00,  4.62s/it]\n",
      "Sampling global variables, sample: 100%|██████████| 999/999 [00:04<00:00, 210.44it/s]\n"
     ]
    }
   ],
   "source": [
    "# In this section, we export the estimated cell abundance (summary of the posterior distribution).\n",
    "adata_vis = mod.export_posterior(\n",
    "    adata_vis, sample_kwargs={'num_samples': 1000, 'batch_size': mod.adata.n_obs}\n",
    ")"
   ]
  },
  {
   "cell_type": "code",
   "execution_count": 190,
   "id": "860444c2",
   "metadata": {},
   "outputs": [],
   "source": [
    "# Save model\n",
    "run_name = f'{os.getcwd()}/cell2location_map'\n",
    "\n",
    "mod.save(run_name, overwrite=True)\n",
    "end_time = time.time()"
   ]
  },
  {
   "cell_type": "code",
   "execution_count": 191,
   "id": "994a2f5f",
   "metadata": {},
   "outputs": [
    {
     "data": {
      "text/plain": [
       "'/Users/onkiwong/Documents/GitHub/Spatial_Transcriptomics_Deconvolution_Algorithm_Benchmarking/methods/cell2loc/cell2location_map/sp.h5ad'"
      ]
     },
     "execution_count": 191,
     "metadata": {},
     "output_type": "execute_result"
    }
   ],
   "source": [
    "# Save anndata object with results\n",
    "adata_file = f\"{run_name}/sp.h5ad\"\n",
    "adata_vis.write(adata_file)\n",
    "adata_file"
   ]
  },
  {
   "cell_type": "code",
   "execution_count": 192,
   "id": "1553afdc",
   "metadata": {},
   "outputs": [
    {
     "data": {
      "image/png": "[encoded data removed]",
      "text/plain": [
       "<Figure size 640x480 with 1 Axes>"
      ]
     },
     "metadata": {},
     "output_type": "display_data"
    }
   ],
   "source": [
    "# Examine reconstruction accuracy to assess if there are any issues with mapping\n",
    "# the plot should be roughly diagonal, strong deviations will signal problems\n",
    "mod.plot_QC()"
   ]
  },
  {
   "cell_type": "code",
   "execution_count": 193,
   "id": "640e282d",
   "metadata": {},
   "outputs": [],
   "source": [
    "# add 5% quantile, representing confident cell abundance, 'at least this amount is present',\n",
    "# to adata.obs with nice names for plotting\n",
    "adata_vis.obs[adata_vis.uns['mod']['factor_names']] = adata_vis.obsm['q05_cell_abundance_w_sf']\n",
    "result1 = adata_vis.obsm['q05_cell_abundance_w_sf']\n",
    "result2 = adata_vis.obsm['q95_cell_abundance_w_sf']\n",
    "result3 = adata_vis.obsm['means_cell_abundance_w_sf']\n",
    "# result_mean = result3.to_csv('mean_gene_expressionhalfx.csv')\n",
    "# result2.to_csv('95_gene_expressionhalfx.csv')\n",
    "# result1.to_csv('05_gene_expressionhalfx.csv')"
   ]
  },
  {
   "cell_type": "code",
   "execution_count": 194,
   "id": "262f5c07",
   "metadata": {},
   "outputs": [],
   "source": [
    "sum_result_3 = result3.sum(axis=1)\n",
    "result3_percent = result3.div(result3.assign(total=sum_result_3)['total'], axis='index')\n",
    "result_name = os.path.join(os.getcwd(), \"Cell2location.csv\")\n",
    "result3_percent.to_csv(result_name)"
   ]
  },
  {
   "cell_type": "code",
   "execution_count": 195,
   "id": "8320a3e8",
   "metadata": {},
   "outputs": [
    {
     "name": "stdout",
     "output_type": "stream",
     "text": [
      "Total time comsuption: seconds\n",
      "2303.2526750564575\n"
     ]
    }
   ],
   "source": [
    "print(\"Total time comsuption: seconds\")\n",
    "print(end_time - start_time)"
   ]
  }
 ],
 "metadata": {
  "kernelspec": {
   "display_name": "cell2loc_env",
   "language": "python",
   "name": "python3"
  },
  "language_info": {
   "codemirror_mode": {
    "name": "ipython",
    "version": 3
   },
   "file_extension": ".py",
   "mimetype": "text/x-python",
   "name": "python",
   "nbconvert_exporter": "python",
   "pygments_lexer": "ipython3",
   "version": "3.9.20"
  }
 },
 "nbformat": 4,
 "nbformat_minor": 5
}
