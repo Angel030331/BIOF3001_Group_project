{
 "cells": [
  {
   "cell_type": "code",
   "execution_count": 1,
   "metadata": {},
   "outputs": [],
   "source": [
    "import scanpy as sc\n",
    "import pandas as pd\n",
    "import numpy as np\n",
    "import os\n",
    "import sys"
   ]
  },
  {
   "cell_type": "code",
   "execution_count": 21,
   "metadata": {},
   "outputs": [],
   "source": [
    "# GSM7090362\n",
    "\n",
    "DATA_DIR = '/Users/onkiwong/Documents/GitHub/BIOF3001_Group_project/human_data/GSM7090362'\n",
    "barcode = os.path.join(DATA_DIR, 'GSM7090362_SpPat09_Unaffected_barcodes.tsv.gz')\n",
    "feature = os.path.join(DATA_DIR, 'GSM7090362_SpPat09_Unaffected_features.tsv.gz')\n",
    "mtx = os.path.join(DATA_DIR, 'GSM7090362_SpPat09_Unaffected_matrix.mtx.gz')\n",
    "\n",
    "adata = sc.read_mtx(mtx).T\n",
    "barcode_df = pd.read_table(barcode, delimiter='\\t', header=None)\n",
    "feature_df = pd.read_table(feature, delimiter='\\t', header=None)"
   ]
  },
  {
   "cell_type": "code",
   "execution_count": 22,
   "metadata": {},
   "outputs": [
    {
     "data": {
      "text/html": [
       "<div>\n",
       "<style scoped>\n",
       "    .dataframe tbody tr th:only-of-type {\n",
       "        vertical-align: middle;\n",
       "    }\n",
       "\n",
       "    .dataframe tbody tr th {\n",
       "        vertical-align: top;\n",
       "    }\n",
       "\n",
       "    .dataframe thead th {\n",
       "        text-align: right;\n",
       "    }\n",
       "</style>\n",
       "<table border=\"1\" class=\"dataframe\">\n",
       "  <thead>\n",
       "    <tr style=\"text-align: right;\">\n",
       "      <th></th>\n",
       "      <th>0</th>\n",
       "    </tr>\n",
       "  </thead>\n",
       "  <tbody>\n",
       "    <tr>\n",
       "      <th>0</th>\n",
       "      <td>AAACGAGACGGTTGAT-1</td>\n",
       "    </tr>\n",
       "    <tr>\n",
       "      <th>1</th>\n",
       "      <td>AAAGGGATGTAGCAAG-1</td>\n",
       "    </tr>\n",
       "    <tr>\n",
       "      <th>2</th>\n",
       "      <td>AAATGGTCAATGTGCC-1</td>\n",
       "    </tr>\n",
       "    <tr>\n",
       "      <th>3</th>\n",
       "      <td>AACAACTGGTAGTTGC-1</td>\n",
       "    </tr>\n",
       "    <tr>\n",
       "      <th>4</th>\n",
       "      <td>AACAATTACTCTACGC-1</td>\n",
       "    </tr>\n",
       "  </tbody>\n",
       "</table>\n",
       "</div>"
      ],
      "text/plain": [
       "                    0\n",
       "0  AAACGAGACGGTTGAT-1\n",
       "1  AAAGGGATGTAGCAAG-1\n",
       "2  AAATGGTCAATGTGCC-1\n",
       "3  AACAACTGGTAGTTGC-1\n",
       "4  AACAATTACTCTACGC-1"
      ]
     },
     "execution_count": 22,
     "metadata": {},
     "output_type": "execute_result"
    }
   ],
   "source": [
    "barcode_df.head()"
   ]
  },
  {
   "cell_type": "code",
   "execution_count": 23,
   "metadata": {},
   "outputs": [
    {
     "data": {
      "text/html": [
       "<div>\n",
       "<style scoped>\n",
       "    .dataframe tbody tr th:only-of-type {\n",
       "        vertical-align: middle;\n",
       "    }\n",
       "\n",
       "    .dataframe tbody tr th {\n",
       "        vertical-align: top;\n",
       "    }\n",
       "\n",
       "    .dataframe thead th {\n",
       "        text-align: right;\n",
       "    }\n",
       "</style>\n",
       "<table border=\"1\" class=\"dataframe\">\n",
       "  <thead>\n",
       "    <tr style=\"text-align: right;\">\n",
       "      <th></th>\n",
       "      <th>0</th>\n",
       "      <th>1</th>\n",
       "      <th>2</th>\n",
       "    </tr>\n",
       "  </thead>\n",
       "  <tbody>\n",
       "    <tr>\n",
       "      <th>0</th>\n",
       "      <td>ENSG00000243485</td>\n",
       "      <td>MIR1302-2HG</td>\n",
       "      <td>Gene Expression</td>\n",
       "    </tr>\n",
       "    <tr>\n",
       "      <th>1</th>\n",
       "      <td>ENSG00000237613</td>\n",
       "      <td>FAM138A</td>\n",
       "      <td>Gene Expression</td>\n",
       "    </tr>\n",
       "    <tr>\n",
       "      <th>2</th>\n",
       "      <td>ENSG00000186092</td>\n",
       "      <td>OR4F5</td>\n",
       "      <td>Gene Expression</td>\n",
       "    </tr>\n",
       "    <tr>\n",
       "      <th>3</th>\n",
       "      <td>ENSG00000238009</td>\n",
       "      <td>AL627309.1</td>\n",
       "      <td>Gene Expression</td>\n",
       "    </tr>\n",
       "    <tr>\n",
       "      <th>4</th>\n",
       "      <td>ENSG00000239945</td>\n",
       "      <td>AL627309.3</td>\n",
       "      <td>Gene Expression</td>\n",
       "    </tr>\n",
       "  </tbody>\n",
       "</table>\n",
       "</div>"
      ],
      "text/plain": [
       "                 0            1                2\n",
       "0  ENSG00000243485  MIR1302-2HG  Gene Expression\n",
       "1  ENSG00000237613      FAM138A  Gene Expression\n",
       "2  ENSG00000186092        OR4F5  Gene Expression\n",
       "3  ENSG00000238009   AL627309.1  Gene Expression\n",
       "4  ENSG00000239945   AL627309.3  Gene Expression"
      ]
     },
     "execution_count": 23,
     "metadata": {},
     "output_type": "execute_result"
    }
   ],
   "source": [
    "feature_df.head()"
   ]
  },
  {
   "cell_type": "code",
   "execution_count": 26,
   "metadata": {},
   "outputs": [
    {
     "data": {
      "text/plain": [
       "array(['MIR1302-2HG', 'FAM138A', 'OR4F5', ..., 'AC007325.1', 'AC007325.4',\n",
       "       'AC007325.2'], dtype=object)"
      ]
     },
     "execution_count": 26,
     "metadata": {},
     "output_type": "execute_result"
    }
   ],
   "source": [
    "genes = feature_df[1].values\n",
    "genes"
   ]
  },
  {
   "cell_type": "code",
   "execution_count": 27,
   "metadata": {},
   "outputs": [],
   "source": [
    "# write csv: row = cells, col = genes\n",
    "adata.obs.index = barcode_df[0]\n",
    "adata.var.index = genes"
   ]
  },
  {
   "cell_type": "code",
   "execution_count": 28,
   "metadata": {},
   "outputs": [
    {
     "data": {
      "text/html": [
       "<div>\n",
       "<style scoped>\n",
       "    .dataframe tbody tr th:only-of-type {\n",
       "        vertical-align: middle;\n",
       "    }\n",
       "\n",
       "    .dataframe tbody tr th {\n",
       "        vertical-align: top;\n",
       "    }\n",
       "\n",
       "    .dataframe thead th {\n",
       "        text-align: right;\n",
       "    }\n",
       "</style>\n",
       "<table border=\"1\" class=\"dataframe\">\n",
       "  <thead>\n",
       "    <tr style=\"text-align: right;\">\n",
       "      <th></th>\n",
       "      <th>MIR1302-2HG</th>\n",
       "      <th>FAM138A</th>\n",
       "      <th>OR4F5</th>\n",
       "      <th>AL627309.1</th>\n",
       "      <th>AL627309.3</th>\n",
       "      <th>AL627309.2</th>\n",
       "      <th>AL627309.5</th>\n",
       "      <th>AL627309.4</th>\n",
       "      <th>AP006222.2</th>\n",
       "      <th>AL732372.1</th>\n",
       "      <th>...</th>\n",
       "      <th>AC133551.1</th>\n",
       "      <th>AC136612.1</th>\n",
       "      <th>AC136616.1</th>\n",
       "      <th>AC136616.3</th>\n",
       "      <th>AC136616.2</th>\n",
       "      <th>AC141272.1</th>\n",
       "      <th>AC023491.2</th>\n",
       "      <th>AC007325.1</th>\n",
       "      <th>AC007325.4</th>\n",
       "      <th>AC007325.2</th>\n",
       "    </tr>\n",
       "    <tr>\n",
       "      <th>0</th>\n",
       "      <th></th>\n",
       "      <th></th>\n",
       "      <th></th>\n",
       "      <th></th>\n",
       "      <th></th>\n",
       "      <th></th>\n",
       "      <th></th>\n",
       "      <th></th>\n",
       "      <th></th>\n",
       "      <th></th>\n",
       "      <th></th>\n",
       "      <th></th>\n",
       "      <th></th>\n",
       "      <th></th>\n",
       "      <th></th>\n",
       "      <th></th>\n",
       "      <th></th>\n",
       "      <th></th>\n",
       "      <th></th>\n",
       "      <th></th>\n",
       "      <th></th>\n",
       "    </tr>\n",
       "  </thead>\n",
       "  <tbody>\n",
       "    <tr>\n",
       "      <th>AAACGAGACGGTTGAT-1</th>\n",
       "      <td>0.0</td>\n",
       "      <td>0.0</td>\n",
       "      <td>0.0</td>\n",
       "      <td>0.0</td>\n",
       "      <td>0.0</td>\n",
       "      <td>0.0</td>\n",
       "      <td>0.0</td>\n",
       "      <td>0.0</td>\n",
       "      <td>0.0</td>\n",
       "      <td>0.0</td>\n",
       "      <td>...</td>\n",
       "      <td>0.0</td>\n",
       "      <td>0.0</td>\n",
       "      <td>0.0</td>\n",
       "      <td>0.0</td>\n",
       "      <td>0.0</td>\n",
       "      <td>0.0</td>\n",
       "      <td>0.0</td>\n",
       "      <td>0.0</td>\n",
       "      <td>0.0</td>\n",
       "      <td>0.0</td>\n",
       "    </tr>\n",
       "    <tr>\n",
       "      <th>AAAGGGATGTAGCAAG-1</th>\n",
       "      <td>0.0</td>\n",
       "      <td>0.0</td>\n",
       "      <td>0.0</td>\n",
       "      <td>0.0</td>\n",
       "      <td>0.0</td>\n",
       "      <td>0.0</td>\n",
       "      <td>0.0</td>\n",
       "      <td>0.0</td>\n",
       "      <td>0.0</td>\n",
       "      <td>0.0</td>\n",
       "      <td>...</td>\n",
       "      <td>0.0</td>\n",
       "      <td>0.0</td>\n",
       "      <td>0.0</td>\n",
       "      <td>0.0</td>\n",
       "      <td>0.0</td>\n",
       "      <td>0.0</td>\n",
       "      <td>0.0</td>\n",
       "      <td>0.0</td>\n",
       "      <td>0.0</td>\n",
       "      <td>0.0</td>\n",
       "    </tr>\n",
       "    <tr>\n",
       "      <th>AAATGGTCAATGTGCC-1</th>\n",
       "      <td>0.0</td>\n",
       "      <td>0.0</td>\n",
       "      <td>0.0</td>\n",
       "      <td>0.0</td>\n",
       "      <td>0.0</td>\n",
       "      <td>0.0</td>\n",
       "      <td>0.0</td>\n",
       "      <td>0.0</td>\n",
       "      <td>0.0</td>\n",
       "      <td>0.0</td>\n",
       "      <td>...</td>\n",
       "      <td>0.0</td>\n",
       "      <td>0.0</td>\n",
       "      <td>0.0</td>\n",
       "      <td>0.0</td>\n",
       "      <td>0.0</td>\n",
       "      <td>0.0</td>\n",
       "      <td>0.0</td>\n",
       "      <td>0.0</td>\n",
       "      <td>0.0</td>\n",
       "      <td>0.0</td>\n",
       "    </tr>\n",
       "    <tr>\n",
       "      <th>AACAACTGGTAGTTGC-1</th>\n",
       "      <td>0.0</td>\n",
       "      <td>0.0</td>\n",
       "      <td>0.0</td>\n",
       "      <td>0.0</td>\n",
       "      <td>0.0</td>\n",
       "      <td>0.0</td>\n",
       "      <td>0.0</td>\n",
       "      <td>0.0</td>\n",
       "      <td>0.0</td>\n",
       "      <td>0.0</td>\n",
       "      <td>...</td>\n",
       "      <td>0.0</td>\n",
       "      <td>0.0</td>\n",
       "      <td>0.0</td>\n",
       "      <td>0.0</td>\n",
       "      <td>0.0</td>\n",
       "      <td>0.0</td>\n",
       "      <td>0.0</td>\n",
       "      <td>0.0</td>\n",
       "      <td>0.0</td>\n",
       "      <td>0.0</td>\n",
       "    </tr>\n",
       "    <tr>\n",
       "      <th>AACAATTACTCTACGC-1</th>\n",
       "      <td>0.0</td>\n",
       "      <td>0.0</td>\n",
       "      <td>0.0</td>\n",
       "      <td>0.0</td>\n",
       "      <td>0.0</td>\n",
       "      <td>0.0</td>\n",
       "      <td>0.0</td>\n",
       "      <td>0.0</td>\n",
       "      <td>0.0</td>\n",
       "      <td>0.0</td>\n",
       "      <td>...</td>\n",
       "      <td>0.0</td>\n",
       "      <td>0.0</td>\n",
       "      <td>0.0</td>\n",
       "      <td>0.0</td>\n",
       "      <td>0.0</td>\n",
       "      <td>0.0</td>\n",
       "      <td>0.0</td>\n",
       "      <td>0.0</td>\n",
       "      <td>0.0</td>\n",
       "      <td>0.0</td>\n",
       "    </tr>\n",
       "  </tbody>\n",
       "</table>\n",
       "<p>5 rows × 36601 columns</p>\n",
       "</div>"
      ],
      "text/plain": [
       "                    MIR1302-2HG  FAM138A  OR4F5  AL627309.1  AL627309.3  \\\n",
       "0                                                                         \n",
       "AAACGAGACGGTTGAT-1          0.0      0.0    0.0         0.0         0.0   \n",
       "AAAGGGATGTAGCAAG-1          0.0      0.0    0.0         0.0         0.0   \n",
       "AAATGGTCAATGTGCC-1          0.0      0.0    0.0         0.0         0.0   \n",
       "AACAACTGGTAGTTGC-1          0.0      0.0    0.0         0.0         0.0   \n",
       "AACAATTACTCTACGC-1          0.0      0.0    0.0         0.0         0.0   \n",
       "\n",
       "                    AL627309.2  AL627309.5  AL627309.4  AP006222.2  \\\n",
       "0                                                                    \n",
       "AAACGAGACGGTTGAT-1         0.0         0.0         0.0         0.0   \n",
       "AAAGGGATGTAGCAAG-1         0.0         0.0         0.0         0.0   \n",
       "AAATGGTCAATGTGCC-1         0.0         0.0         0.0         0.0   \n",
       "AACAACTGGTAGTTGC-1         0.0         0.0         0.0         0.0   \n",
       "AACAATTACTCTACGC-1         0.0         0.0         0.0         0.0   \n",
       "\n",
       "                    AL732372.1  ...  AC133551.1  AC136612.1  AC136616.1  \\\n",
       "0                               ...                                       \n",
       "AAACGAGACGGTTGAT-1         0.0  ...         0.0         0.0         0.0   \n",
       "AAAGGGATGTAGCAAG-1         0.0  ...         0.0         0.0         0.0   \n",
       "AAATGGTCAATGTGCC-1         0.0  ...         0.0         0.0         0.0   \n",
       "AACAACTGGTAGTTGC-1         0.0  ...         0.0         0.0         0.0   \n",
       "AACAATTACTCTACGC-1         0.0  ...         0.0         0.0         0.0   \n",
       "\n",
       "                    AC136616.3  AC136616.2  AC141272.1  AC023491.2  \\\n",
       "0                                                                    \n",
       "AAACGAGACGGTTGAT-1         0.0         0.0         0.0         0.0   \n",
       "AAAGGGATGTAGCAAG-1         0.0         0.0         0.0         0.0   \n",
       "AAATGGTCAATGTGCC-1         0.0         0.0         0.0         0.0   \n",
       "AACAACTGGTAGTTGC-1         0.0         0.0         0.0         0.0   \n",
       "AACAATTACTCTACGC-1         0.0         0.0         0.0         0.0   \n",
       "\n",
       "                    AC007325.1  AC007325.4  AC007325.2  \n",
       "0                                                       \n",
       "AAACGAGACGGTTGAT-1         0.0         0.0         0.0  \n",
       "AAAGGGATGTAGCAAG-1         0.0         0.0         0.0  \n",
       "AAATGGTCAATGTGCC-1         0.0         0.0         0.0  \n",
       "AACAACTGGTAGTTGC-1         0.0         0.0         0.0  \n",
       "AACAATTACTCTACGC-1         0.0         0.0         0.0  \n",
       "\n",
       "[5 rows x 36601 columns]"
      ]
     },
     "execution_count": 28,
     "metadata": {},
     "output_type": "execute_result"
    }
   ],
   "source": [
    "adata.to_df().head()"
   ]
  },
  {
   "cell_type": "code",
   "execution_count": 29,
   "metadata": {},
   "outputs": [],
   "source": [
    "adata.to_df().to_csv(os.path.join(DATA_DIR, 'GSM7090362_SpPat09_Unaffected.csv'))"
   ]
  },
  {
   "cell_type": "code",
   "execution_count": 30,
   "metadata": {},
   "outputs": [
    {
     "data": {
      "text/plain": [
       "(542, 36601)"
      ]
     },
     "execution_count": 30,
     "metadata": {},
     "output_type": "execute_result"
    }
   ],
   "source": [
    "adata.to_df().shape"
   ]
  },
  {
   "cell_type": "code",
   "execution_count": 35,
   "metadata": {},
   "outputs": [],
   "source": [
    "def stRNA_extract(DATA_DIR, barcode_file, feature_file, matrix_file, output_file):\n",
    "    # Read barcode, feature, and matrix files\n",
    "    adata = sc.read_mtx(matrix_file).T\n",
    "    barcode_df = pd.read_table(barcode_file, delimiter='\\t', header=None)\n",
    "    feature_df = pd.read_table(feature_file, delimiter='\\t', header=None)\n",
    "\n",
    "    # Extract gene names\n",
    "    genes = feature_df[1].values\n",
    "\n",
    "    # Set index for observations and variables\n",
    "    adata.obs.index = barcode_df[0]\n",
    "    adata.var.index = genes\n",
    "\n",
    "    # Convert AnnData object to DataFrame and save to CSV\n",
    "    adata_df = adata.to_df()\n",
    "    output_path = os.path.join(DATA_DIR, output_file)\n",
    "    adata_df.to_csv(output_path)\n",
    "\n",
    "    print(adata_df.shape)\n",
    "\n",
    "    return adata_df"
   ]
  },
  {
   "cell_type": "code",
   "execution_count": 37,
   "metadata": {},
   "outputs": [
    {
     "name": "stdout",
     "output_type": "stream",
     "text": [
      "(1427, 36601)\n"
     ]
    },
    {
     "ename": "NameError",
     "evalue": "name 'processed_data' is not defined",
     "output_type": "error",
     "traceback": [
      "\u001b[0;31m---------------------------------------------------------------------------\u001b[0m",
      "\u001b[0;31mNameError\u001b[0m                                 Traceback (most recent call last)",
      "Cell \u001b[0;32mIn[37], line 10\u001b[0m\n\u001b[1;32m      7\u001b[0m output_file \u001b[38;5;241m=\u001b[39m \u001b[38;5;124m'\u001b[39m\u001b[38;5;124mGSM7090365_SpPat10_Unaffected.csv\u001b[39m\u001b[38;5;124m'\u001b[39m\n\u001b[1;32m      9\u001b[0m GSM7090365_df \u001b[38;5;241m=\u001b[39m stRNA_extract(DATA_DIR, barcode, feature, mtx, output_file)\n\u001b[0;32m---> 10\u001b[0m \u001b[38;5;28mprint\u001b[39m(\u001b[43mprocessed_data\u001b[49m\u001b[38;5;241m.\u001b[39mshape)\n",
      "\u001b[0;31mNameError\u001b[0m: name 'processed_data' is not defined"
     ]
    }
   ],
   "source": [
    "# GSM7090365\n",
    "\n",
    "DATA_DIR = '/Users/onkiwong/Documents/GitHub/BIOF3001_Group_project/human_data/GSM7090365'\n",
    "barcode = os.path.join(DATA_DIR, 'GSM7090365_SpPat10_Unaffected_barcodes.tsv.gz')\n",
    "feature = os.path.join(DATA_DIR, 'GSM7090365_SpPat10_Unaffected_features.tsv.gz')\n",
    "mtx = os.path.join(DATA_DIR, 'GSM7090365_SpPat10_Unaffected_matrix.mtx.gz')\n",
    "output_file = 'GSM7090365_SpPat10_Unaffected.csv'\n",
    "\n",
    "GSM7090365_df = stRNA_extract(DATA_DIR, barcode, feature, mtx, output_file)"
   ]
  },
  {
   "cell_type": "code",
   "execution_count": 38,
   "metadata": {},
   "outputs": [
    {
     "name": "stdout",
     "output_type": "stream",
     "text": [
      "(962, 36601)\n"
     ]
    }
   ],
   "source": [
    "# GSM7090368\n",
    "\n",
    "DATA_DIR = '/Users/onkiwong/Documents/GitHub/BIOF3001_Group_project/human_data/GSM7090368'\n",
    "barcode = os.path.join(DATA_DIR, 'GSM7090368_SpPat15_Unaffected_barcodes.tsv.gz')\n",
    "feature = os.path.join(DATA_DIR, 'GSM7090368_SpPat15_Unaffected_features.tsv.gz')\n",
    "mtx = os.path.join(DATA_DIR, 'GSM7090368_SpPat15_Unaffected_matrix.mtx.gz')\n",
    "output_file = 'GSM7090368_SpPat15_Unaffected.csv'\n",
    "\n",
    "GSM7090368_df = stRNA_extract(DATA_DIR, barcode, feature, mtx, output_file)"
   ]
  }
 ],
 "metadata": {
  "kernelspec": {
   "display_name": "Python 3",
   "language": "python",
   "name": "python3"
  },
  "language_info": {
   "codemirror_mode": {
    "name": "ipython",
    "version": 3
   },
   "file_extension": ".py",
   "mimetype": "text/x-python",
   "name": "python",
   "nbconvert_exporter": "python",
   "pygments_lexer": "ipython3",
   "version": "3.9.20"
  }
 },
 "nbformat": 4,
 "nbformat_minor": 2
}
