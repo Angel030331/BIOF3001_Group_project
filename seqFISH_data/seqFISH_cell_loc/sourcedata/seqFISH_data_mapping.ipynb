{
 "cells": [
  {
   "cell_type": "code",
   "execution_count": 2,
   "metadata": {},
   "outputs": [],
   "source": [
    "import pandas as pd\n",
    "import numpy as np\n",
    "import os\n",
    "\n",
    "DATA_DIR = '/Users/onkiwong/Documents/GitHub/BIOF3001_Group_project/seqFISH_data/seqFISH_cell_loc/sourcedata'\n",
    "ANNOT_DIR = '/Users/onkiwong/Documents/GitHub/BIOF3001_Group_project/seqFISH_data/seqFISH_cell_loc/celltype_annotations'\n",
    "# Load the data\n",
    "\n",
    "svz_cellcentroids = pd.read_csv(DATA_DIR + '/cortex_svz_cellcentroids.csv', header=0)\n",
    "svz_counts = pd.read_csv(DATA_DIR + '/cortex_svz_counts.csv', header=0)\n",
    "cell_annot = pd.read_csv(ANNOT_DIR + '/cortex_svz_cell_type_annotations.csv', header=0)"
   ]
  },
  {
   "cell_type": "code",
   "execution_count": 3,
   "metadata": {},
   "outputs": [
    {
     "data": {
      "text/html": [
       "<div>\n",
       "<style scoped>\n",
       "    .dataframe tbody tr th:only-of-type {\n",
       "        vertical-align: middle;\n",
       "    }\n",
       "\n",
       "    .dataframe tbody tr th {\n",
       "        vertical-align: top;\n",
       "    }\n",
       "\n",
       "    .dataframe thead th {\n",
       "        text-align: right;\n",
       "    }\n",
       "</style>\n",
       "<table border=\"1\" class=\"dataframe\">\n",
       "  <thead>\n",
       "    <tr style=\"text-align: right;\">\n",
       "      <th></th>\n",
       "      <th>Field of View</th>\n",
       "      <th>Cell ID</th>\n",
       "      <th>X</th>\n",
       "      <th>Y</th>\n",
       "      <th>Region</th>\n",
       "    </tr>\n",
       "  </thead>\n",
       "  <tbody>\n",
       "    <tr>\n",
       "      <th>0</th>\n",
       "      <td>0</td>\n",
       "      <td>1</td>\n",
       "      <td>1305.70</td>\n",
       "      <td>414.98</td>\n",
       "      <td>Cortex</td>\n",
       "    </tr>\n",
       "    <tr>\n",
       "      <th>1</th>\n",
       "      <td>0</td>\n",
       "      <td>2</td>\n",
       "      <td>669.51</td>\n",
       "      <td>457.53</td>\n",
       "      <td>Cortex</td>\n",
       "    </tr>\n",
       "    <tr>\n",
       "      <th>2</th>\n",
       "      <td>0</td>\n",
       "      <td>3</td>\n",
       "      <td>1185.90</td>\n",
       "      <td>507.11</td>\n",
       "      <td>Cortex</td>\n",
       "    </tr>\n",
       "    <tr>\n",
       "      <th>3</th>\n",
       "      <td>0</td>\n",
       "      <td>4</td>\n",
       "      <td>710.24</td>\n",
       "      <td>533.06</td>\n",
       "      <td>Cortex</td>\n",
       "    </tr>\n",
       "    <tr>\n",
       "      <th>4</th>\n",
       "      <td>0</td>\n",
       "      <td>5</td>\n",
       "      <td>763.87</td>\n",
       "      <td>569.15</td>\n",
       "      <td>Cortex</td>\n",
       "    </tr>\n",
       "  </tbody>\n",
       "</table>\n",
       "</div>"
      ],
      "text/plain": [
       "   Field of View  Cell ID        X       Y  Region\n",
       "0              0        1  1305.70  414.98  Cortex\n",
       "1              0        2   669.51  457.53  Cortex\n",
       "2              0        3  1185.90  507.11  Cortex\n",
       "3              0        4   710.24  533.06  Cortex\n",
       "4              0        5   763.87  569.15  Cortex"
      ]
     },
     "execution_count": 3,
     "metadata": {},
     "output_type": "execute_result"
    }
   ],
   "source": [
    "svz_cellcentroids.head()"
   ]
  },
  {
   "cell_type": "code",
   "execution_count": 5,
   "metadata": {},
   "outputs": [
    {
     "data": {
      "text/plain": [
       "(913, 10000)"
      ]
     },
     "execution_count": 5,
     "metadata": {},
     "output_type": "execute_result"
    }
   ],
   "source": [
    "svz_counts.shape"
   ]
  },
  {
   "cell_type": "code",
   "execution_count": 6,
   "metadata": {},
   "outputs": [
    {
     "data": {
      "text/plain": [
       "(913, 2)"
      ]
     },
     "execution_count": 6,
     "metadata": {},
     "output_type": "execute_result"
    }
   ],
   "source": [
    "cell_annot.shape"
   ]
  },
  {
   "cell_type": "code",
   "execution_count": 7,
   "metadata": {},
   "outputs": [],
   "source": [
    "svz_cellcentroids['louvain'] = cell_annot['louvain']"
   ]
  },
  {
   "cell_type": "code",
   "execution_count": 8,
   "metadata": {},
   "outputs": [
    {
     "data": {
      "text/html": [
       "<div>\n",
       "<style scoped>\n",
       "    .dataframe tbody tr th:only-of-type {\n",
       "        vertical-align: middle;\n",
       "    }\n",
       "\n",
       "    .dataframe tbody tr th {\n",
       "        vertical-align: top;\n",
       "    }\n",
       "\n",
       "    .dataframe thead th {\n",
       "        text-align: right;\n",
       "    }\n",
       "</style>\n",
       "<table border=\"1\" class=\"dataframe\">\n",
       "  <thead>\n",
       "    <tr style=\"text-align: right;\">\n",
       "      <th></th>\n",
       "      <th>Field of View</th>\n",
       "      <th>Cell ID</th>\n",
       "      <th>X</th>\n",
       "      <th>Y</th>\n",
       "      <th>Region</th>\n",
       "      <th>louvain</th>\n",
       "    </tr>\n",
       "  </thead>\n",
       "  <tbody>\n",
       "    <tr>\n",
       "      <th>0</th>\n",
       "      <td>0</td>\n",
       "      <td>1</td>\n",
       "      <td>1305.70</td>\n",
       "      <td>414.98</td>\n",
       "      <td>Cortex</td>\n",
       "      <td>13</td>\n",
       "    </tr>\n",
       "    <tr>\n",
       "      <th>1</th>\n",
       "      <td>0</td>\n",
       "      <td>2</td>\n",
       "      <td>669.51</td>\n",
       "      <td>457.53</td>\n",
       "      <td>Cortex</td>\n",
       "      <td>3</td>\n",
       "    </tr>\n",
       "    <tr>\n",
       "      <th>2</th>\n",
       "      <td>0</td>\n",
       "      <td>3</td>\n",
       "      <td>1185.90</td>\n",
       "      <td>507.11</td>\n",
       "      <td>Cortex</td>\n",
       "      <td>3</td>\n",
       "    </tr>\n",
       "    <tr>\n",
       "      <th>3</th>\n",
       "      <td>0</td>\n",
       "      <td>4</td>\n",
       "      <td>710.24</td>\n",
       "      <td>533.06</td>\n",
       "      <td>Cortex</td>\n",
       "      <td>7</td>\n",
       "    </tr>\n",
       "    <tr>\n",
       "      <th>4</th>\n",
       "      <td>0</td>\n",
       "      <td>5</td>\n",
       "      <td>763.87</td>\n",
       "      <td>569.15</td>\n",
       "      <td>Cortex</td>\n",
       "      <td>6</td>\n",
       "    </tr>\n",
       "  </tbody>\n",
       "</table>\n",
       "</div>"
      ],
      "text/plain": [
       "   Field of View  Cell ID        X       Y  Region  louvain\n",
       "0              0        1  1305.70  414.98  Cortex       13\n",
       "1              0        2   669.51  457.53  Cortex        3\n",
       "2              0        3  1185.90  507.11  Cortex        3\n",
       "3              0        4   710.24  533.06  Cortex        7\n",
       "4              0        5   763.87  569.15  Cortex        6"
      ]
     },
     "execution_count": 8,
     "metadata": {},
     "output_type": "execute_result"
    }
   ],
   "source": [
    "svz_cellcentroids.head()"
   ]
  },
  {
   "cell_type": "code",
   "execution_count": 9,
   "metadata": {},
   "outputs": [],
   "source": [
    "cell_type_mapping = {\n",
    "    1: 'Choroid plexux',\n",
    "    3: 'Excitatory neuron',\n",
    "    4: 'Excitatory neuron',\n",
    "    5: 'Excitatory neuron',\n",
    "    6: 'Excitatory neuron',\n",
    "    9: 'Excitatory neuron',\n",
    "    11: 'Excitatory neuron',\n",
    "    13: 'Excitatory neuron',\n",
    "    18: 'Excitatory neuron',\n",
    "    7: 'Interneuron',\n",
    "    23: 'Interneuron',\n",
    "    8: 'Neural Stem',\n",
    "    14: 'Neural Stem',\n",
    "    15: 'Neural Progenitors',\n",
    "    24: 'Neural Progenitors',\n",
    "    12: 'Neuroblasts',\n",
    "    17: 'Neuroblasts',\n",
    "    21: 'Neuroblasts',\n",
    "    2: 'Endothelial',\n",
    "    10: 'Astrocytes',\n",
    "    19: 'Astrocytes',\n",
    "    16: 'Oligodendrocytes',\n",
    "    20: 'Microglia',\n",
    "    22: 'Ependymal',\n",
    "    25: 'Oligo Precursor',\n",
    "    26: 'Unannotated'\n",
    "}\n",
    "\n",
    "svz_cellcentroids['celltype'] = svz_cellcentroids['louvain'].map(cell_type_mapping)"
   ]
  },
  {
   "cell_type": "code",
   "execution_count": 10,
   "metadata": {},
   "outputs": [
    {
     "data": {
      "text/html": [
       "<div>\n",
       "<style scoped>\n",
       "    .dataframe tbody tr th:only-of-type {\n",
       "        vertical-align: middle;\n",
       "    }\n",
       "\n",
       "    .dataframe tbody tr th {\n",
       "        vertical-align: top;\n",
       "    }\n",
       "\n",
       "    .dataframe thead th {\n",
       "        text-align: right;\n",
       "    }\n",
       "</style>\n",
       "<table border=\"1\" class=\"dataframe\">\n",
       "  <thead>\n",
       "    <tr style=\"text-align: right;\">\n",
       "      <th></th>\n",
       "      <th>Field of View</th>\n",
       "      <th>Cell ID</th>\n",
       "      <th>X</th>\n",
       "      <th>Y</th>\n",
       "      <th>Region</th>\n",
       "      <th>louvain</th>\n",
       "      <th>celltype</th>\n",
       "    </tr>\n",
       "  </thead>\n",
       "  <tbody>\n",
       "    <tr>\n",
       "      <th>0</th>\n",
       "      <td>0</td>\n",
       "      <td>1</td>\n",
       "      <td>1305.70</td>\n",
       "      <td>414.98</td>\n",
       "      <td>Cortex</td>\n",
       "      <td>13</td>\n",
       "      <td>Excitatory neuron</td>\n",
       "    </tr>\n",
       "    <tr>\n",
       "      <th>1</th>\n",
       "      <td>0</td>\n",
       "      <td>2</td>\n",
       "      <td>669.51</td>\n",
       "      <td>457.53</td>\n",
       "      <td>Cortex</td>\n",
       "      <td>3</td>\n",
       "      <td>Excitatory neuron</td>\n",
       "    </tr>\n",
       "    <tr>\n",
       "      <th>2</th>\n",
       "      <td>0</td>\n",
       "      <td>3</td>\n",
       "      <td>1185.90</td>\n",
       "      <td>507.11</td>\n",
       "      <td>Cortex</td>\n",
       "      <td>3</td>\n",
       "      <td>Excitatory neuron</td>\n",
       "    </tr>\n",
       "    <tr>\n",
       "      <th>3</th>\n",
       "      <td>0</td>\n",
       "      <td>4</td>\n",
       "      <td>710.24</td>\n",
       "      <td>533.06</td>\n",
       "      <td>Cortex</td>\n",
       "      <td>7</td>\n",
       "      <td>Interneuron</td>\n",
       "    </tr>\n",
       "    <tr>\n",
       "      <th>4</th>\n",
       "      <td>0</td>\n",
       "      <td>5</td>\n",
       "      <td>763.87</td>\n",
       "      <td>569.15</td>\n",
       "      <td>Cortex</td>\n",
       "      <td>6</td>\n",
       "      <td>Excitatory neuron</td>\n",
       "    </tr>\n",
       "  </tbody>\n",
       "</table>\n",
       "</div>"
      ],
      "text/plain": [
       "   Field of View  Cell ID        X       Y  Region  louvain           celltype\n",
       "0              0        1  1305.70  414.98  Cortex       13  Excitatory neuron\n",
       "1              0        2   669.51  457.53  Cortex        3  Excitatory neuron\n",
       "2              0        3  1185.90  507.11  Cortex        3  Excitatory neuron\n",
       "3              0        4   710.24  533.06  Cortex        7        Interneuron\n",
       "4              0        5   763.87  569.15  Cortex        6  Excitatory neuron"
      ]
     },
     "execution_count": 10,
     "metadata": {},
     "output_type": "execute_result"
    }
   ],
   "source": [
    "svz_cellcentroids.head()"
   ]
  },
  {
   "cell_type": "code",
   "execution_count": 11,
   "metadata": {},
   "outputs": [],
   "source": [
    "with open(DATA_DIR + '/groundtruth_labels.txt', 'w') as f:\n",
    "    for i in svz_cellcentroids['celltype']:\n",
    "        f.write(i + '\\n')"
   ]
  }
 ],
 "metadata": {
  "kernelspec": {
   "display_name": "Python 3",
   "language": "python",
   "name": "python3"
  },
  "language_info": {
   "codemirror_mode": {
    "name": "ipython",
    "version": 3
   },
   "file_extension": ".py",
   "mimetype": "text/x-python",
   "name": "python",
   "nbconvert_exporter": "python",
   "pygments_lexer": "ipython3",
   "version": "3.11.7"
  }
 },
 "nbformat": 4,
 "nbformat_minor": 2
}
